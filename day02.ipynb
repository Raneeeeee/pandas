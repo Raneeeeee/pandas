{
 "cells": [
  {
   "cell_type": "markdown",
   "metadata": {},
   "source": [
    "- 소매점 판매 데이터의 고객에 대한 분석을 수행하고자 한다."
   ]
  },
  {
   "cell_type": "code",
   "execution_count": 1,
   "metadata": {},
   "outputs": [],
   "source": [
    "import pandas as pd\n",
    "import plotly.express as px"
   ]
  },
  {
   "cell_type": "code",
   "execution_count": 2,
   "metadata": {},
   "outputs": [],
   "source": [
    "df1 = pd.read_csv('03_Merge_Data.csv',index_col=0)"
   ]
  },
  {
   "cell_type": "markdown",
   "metadata": {},
   "source": [
    "1. 03_Merge_Data 데이터를 이용해, '총구매금액'이 높은 상위 100명의 고객 명단을 추출하여, result_member_vip.xlsx로 저장 하시오.\n",
    "2. 회원 '성별'에 따른 '총구매금액'의 합을 비교하고자 한다. '성별' 별 '총구매금액'의 합을 Table로 계산하시오.\n",
    "3. '결혼유무'에서 '기혼'에 해당하는 고객들 중 '총방문횟수'가 높은 상위 30명의 고객명단을 확인 하시오."
   ]
  },
  {
   "cell_type": "code",
   "execution_count": 4,
   "metadata": {},
   "outputs": [
    {
     "data": {
      "text/html": [
       "<div>\n",
       "<style scoped>\n",
       "    .dataframe tbody tr th:only-of-type {\n",
       "        vertical-align: middle;\n",
       "    }\n",
       "\n",
       "    .dataframe tbody tr th {\n",
       "        vertical-align: top;\n",
       "    }\n",
       "\n",
       "    .dataframe thead th {\n",
       "        text-align: right;\n",
       "    }\n",
       "</style>\n",
       "<table border=\"1\" class=\"dataframe\">\n",
       "  <thead>\n",
       "    <tr style=\"text-align: right;\">\n",
       "      <th></th>\n",
       "      <th>총구매금액</th>\n",
       "    </tr>\n",
       "    <tr>\n",
       "      <th>성별</th>\n",
       "      <th></th>\n",
       "    </tr>\n",
       "  </thead>\n",
       "  <tbody>\n",
       "    <tr>\n",
       "      <th>남</th>\n",
       "      <td>250926387</td>\n",
       "    </tr>\n",
       "    <tr>\n",
       "      <th>여</th>\n",
       "      <td>3925957601</td>\n",
       "    </tr>\n",
       "  </tbody>\n",
       "</table>\n",
       "</div>"
      ],
      "text/plain": [
       "         총구매금액\n",
       "성별            \n",
       "남    250926387\n",
       "여   3925957601"
      ]
     },
     "execution_count": 4,
     "metadata": {},
     "output_type": "execute_result"
    }
   ],
   "source": [
    "df1.sort_values(by='총구매금액',ascending=False).head(100).to_excel(\"result_member_vip.xlsx\")\n",
    "df1.pivot_table(index=\"성별\",values='총구매금액',aggfunc='sum')"
   ]
  },
  {
   "cell_type": "markdown",
   "metadata": {},
   "source": [
    "3. '결혼유무'에서 '기혼'에 해당하는 고객들 중 '총방문횟수'가 높은 상위 30명의 고객명단을 확인 하시오."
   ]
  },
  {
   "cell_type": "code",
   "execution_count": 5,
   "metadata": {},
   "outputs": [
    {
     "data": {
      "text/html": [
       "<div>\n",
       "<style scoped>\n",
       "    .dataframe tbody tr th:only-of-type {\n",
       "        vertical-align: middle;\n",
       "    }\n",
       "\n",
       "    .dataframe tbody tr th {\n",
       "        vertical-align: top;\n",
       "    }\n",
       "\n",
       "    .dataframe thead th {\n",
       "        text-align: right;\n",
       "    }\n",
       "</style>\n",
       "<table border=\"1\" class=\"dataframe\">\n",
       "  <thead>\n",
       "    <tr style=\"text-align: right;\">\n",
       "      <th></th>\n",
       "      <th>회원번호</th>\n",
       "      <th>회원상태</th>\n",
       "      <th>성별</th>\n",
       "      <th>결혼유무</th>\n",
       "      <th>주소</th>\n",
       "      <th>연령</th>\n",
       "      <th>총구매금액</th>\n",
       "      <th>총구매수량</th>\n",
       "      <th>총방문횟수</th>\n",
       "    </tr>\n",
       "  </thead>\n",
       "  <tbody>\n",
       "    <tr>\n",
       "      <th>39</th>\n",
       "      <td>2141</td>\n",
       "      <td>정상회원</td>\n",
       "      <td>여</td>\n",
       "      <td>기혼</td>\n",
       "      <td>경기 용인시 수지구 풍덕천2</td>\n",
       "      <td>50</td>\n",
       "      <td>15302800</td>\n",
       "      <td>2896.70</td>\n",
       "      <td>173</td>\n",
       "    </tr>\n",
       "    <tr>\n",
       "      <th>3645</th>\n",
       "      <td>5856</td>\n",
       "      <td>탈퇴</td>\n",
       "      <td>여</td>\n",
       "      <td>기혼</td>\n",
       "      <td>경기 용인시 수지구 신봉동</td>\n",
       "      <td>46</td>\n",
       "      <td>21217470</td>\n",
       "      <td>4006.96</td>\n",
       "      <td>172</td>\n",
       "    </tr>\n",
       "    <tr>\n",
       "      <th>2441</th>\n",
       "      <td>4649</td>\n",
       "      <td>탈퇴</td>\n",
       "      <td>여</td>\n",
       "      <td>기혼</td>\n",
       "      <td>경기 용인시 수지구 풍덕천2</td>\n",
       "      <td>46</td>\n",
       "      <td>16471290</td>\n",
       "      <td>3447.20</td>\n",
       "      <td>171</td>\n",
       "    </tr>\n",
       "    <tr>\n",
       "      <th>2857</th>\n",
       "      <td>5068</td>\n",
       "      <td>탈퇴</td>\n",
       "      <td>여</td>\n",
       "      <td>기혼</td>\n",
       "      <td>경기 용인시 수지구 동천동</td>\n",
       "      <td>47</td>\n",
       "      <td>21285710</td>\n",
       "      <td>4180.50</td>\n",
       "      <td>170</td>\n",
       "    </tr>\n",
       "    <tr>\n",
       "      <th>156</th>\n",
       "      <td>2277</td>\n",
       "      <td>정상회원</td>\n",
       "      <td>여</td>\n",
       "      <td>기혼</td>\n",
       "      <td>경기 용인시 수지구 풍덕천2</td>\n",
       "      <td>47</td>\n",
       "      <td>21950630</td>\n",
       "      <td>4425.70</td>\n",
       "      <td>170</td>\n",
       "    </tr>\n",
       "    <tr>\n",
       "      <th>1928</th>\n",
       "      <td>4135</td>\n",
       "      <td>탈퇴</td>\n",
       "      <td>여</td>\n",
       "      <td>기혼</td>\n",
       "      <td>경기 용인시 수지구 신봉동</td>\n",
       "      <td>49</td>\n",
       "      <td>18381620</td>\n",
       "      <td>3219.43</td>\n",
       "      <td>170</td>\n",
       "    </tr>\n",
       "    <tr>\n",
       "      <th>142</th>\n",
       "      <td>2260</td>\n",
       "      <td>정상회원</td>\n",
       "      <td>여</td>\n",
       "      <td>기혼</td>\n",
       "      <td>경기 용인시 수지구 풍덕천동</td>\n",
       "      <td>41</td>\n",
       "      <td>18681595</td>\n",
       "      <td>3870.15</td>\n",
       "      <td>169</td>\n",
       "    </tr>\n",
       "    <tr>\n",
       "      <th>166</th>\n",
       "      <td>2288</td>\n",
       "      <td>정상회원</td>\n",
       "      <td>여</td>\n",
       "      <td>기혼</td>\n",
       "      <td>경기 용인시 수지구 풍덕천동</td>\n",
       "      <td>50</td>\n",
       "      <td>17170370</td>\n",
       "      <td>2921.50</td>\n",
       "      <td>166</td>\n",
       "    </tr>\n",
       "    <tr>\n",
       "      <th>103</th>\n",
       "      <td>2214</td>\n",
       "      <td>정상회원</td>\n",
       "      <td>여</td>\n",
       "      <td>기혼</td>\n",
       "      <td>경기 용인시 수지구 풍덕천2</td>\n",
       "      <td>42</td>\n",
       "      <td>14895300</td>\n",
       "      <td>2986.40</td>\n",
       "      <td>162</td>\n",
       "    </tr>\n",
       "    <tr>\n",
       "      <th>372</th>\n",
       "      <td>2521</td>\n",
       "      <td>정상회원</td>\n",
       "      <td>여</td>\n",
       "      <td>기혼</td>\n",
       "      <td>경기 용인시 수지구 신봉동</td>\n",
       "      <td>44</td>\n",
       "      <td>13609730</td>\n",
       "      <td>2985.55</td>\n",
       "      <td>161</td>\n",
       "    </tr>\n",
       "    <tr>\n",
       "      <th>202</th>\n",
       "      <td>2329</td>\n",
       "      <td>정상회원</td>\n",
       "      <td>여</td>\n",
       "      <td>기혼</td>\n",
       "      <td>경기 용인시 수지구 풍덕천2</td>\n",
       "      <td>56</td>\n",
       "      <td>5575655</td>\n",
       "      <td>1280.60</td>\n",
       "      <td>160</td>\n",
       "    </tr>\n",
       "    <tr>\n",
       "      <th>113</th>\n",
       "      <td>2229</td>\n",
       "      <td>정상회원</td>\n",
       "      <td>여</td>\n",
       "      <td>기혼</td>\n",
       "      <td>경기 용인시 수지구 풍덕천동</td>\n",
       "      <td>42</td>\n",
       "      <td>13395720</td>\n",
       "      <td>2647.50</td>\n",
       "      <td>159</td>\n",
       "    </tr>\n",
       "    <tr>\n",
       "      <th>233</th>\n",
       "      <td>2363</td>\n",
       "      <td>정상회원</td>\n",
       "      <td>여</td>\n",
       "      <td>기혼</td>\n",
       "      <td>경기 용인시 수지구 풍덕천동</td>\n",
       "      <td>47</td>\n",
       "      <td>10033855</td>\n",
       "      <td>2088.85</td>\n",
       "      <td>158</td>\n",
       "    </tr>\n",
       "    <tr>\n",
       "      <th>479</th>\n",
       "      <td>2637</td>\n",
       "      <td>탈퇴</td>\n",
       "      <td>남</td>\n",
       "      <td>기혼</td>\n",
       "      <td>서울 중구 장충동1가 31-</td>\n",
       "      <td>35</td>\n",
       "      <td>19646542</td>\n",
       "      <td>3566.35</td>\n",
       "      <td>156</td>\n",
       "    </tr>\n",
       "    <tr>\n",
       "      <th>1012</th>\n",
       "      <td>3203</td>\n",
       "      <td>탈퇴</td>\n",
       "      <td>여</td>\n",
       "      <td>기혼</td>\n",
       "      <td>경기 용인시 수지구 동천동</td>\n",
       "      <td>48</td>\n",
       "      <td>13786410</td>\n",
       "      <td>2785.40</td>\n",
       "      <td>155</td>\n",
       "    </tr>\n",
       "    <tr>\n",
       "      <th>307</th>\n",
       "      <td>2449</td>\n",
       "      <td>정상회원</td>\n",
       "      <td>여</td>\n",
       "      <td>기혼</td>\n",
       "      <td>경기 용인시 수지구 풍덕천2</td>\n",
       "      <td>45</td>\n",
       "      <td>8853580</td>\n",
       "      <td>2048.35</td>\n",
       "      <td>153</td>\n",
       "    </tr>\n",
       "    <tr>\n",
       "      <th>262</th>\n",
       "      <td>2397</td>\n",
       "      <td>정상회원</td>\n",
       "      <td>여</td>\n",
       "      <td>기혼</td>\n",
       "      <td>경기 용인시 수지구 풍덕천2</td>\n",
       "      <td>49</td>\n",
       "      <td>9319260</td>\n",
       "      <td>1687.80</td>\n",
       "      <td>152</td>\n",
       "    </tr>\n",
       "    <tr>\n",
       "      <th>144</th>\n",
       "      <td>2263</td>\n",
       "      <td>정상회원</td>\n",
       "      <td>여</td>\n",
       "      <td>기혼</td>\n",
       "      <td>경기 용인시 수지구 풍덕천2</td>\n",
       "      <td>51</td>\n",
       "      <td>11917750</td>\n",
       "      <td>2279.30</td>\n",
       "      <td>152</td>\n",
       "    </tr>\n",
       "    <tr>\n",
       "      <th>692</th>\n",
       "      <td>2871</td>\n",
       "      <td>정상회원</td>\n",
       "      <td>여</td>\n",
       "      <td>기혼</td>\n",
       "      <td>경기 용인시 수지구 성복동</td>\n",
       "      <td>48</td>\n",
       "      <td>15670140</td>\n",
       "      <td>2834.65</td>\n",
       "      <td>152</td>\n",
       "    </tr>\n",
       "    <tr>\n",
       "      <th>186</th>\n",
       "      <td>2310</td>\n",
       "      <td>정상회원</td>\n",
       "      <td>여</td>\n",
       "      <td>기혼</td>\n",
       "      <td>경기 용인시 수지구 풍덕천2</td>\n",
       "      <td>43</td>\n",
       "      <td>8750730</td>\n",
       "      <td>1686.00</td>\n",
       "      <td>151</td>\n",
       "    </tr>\n",
       "    <tr>\n",
       "      <th>806</th>\n",
       "      <td>2992</td>\n",
       "      <td>정상회원</td>\n",
       "      <td>여</td>\n",
       "      <td>기혼</td>\n",
       "      <td>경기 용인시 수지구 풍덕천동</td>\n",
       "      <td>49</td>\n",
       "      <td>9183600</td>\n",
       "      <td>1900.20</td>\n",
       "      <td>149</td>\n",
       "    </tr>\n",
       "    <tr>\n",
       "      <th>2698</th>\n",
       "      <td>4909</td>\n",
       "      <td>탈퇴</td>\n",
       "      <td>여</td>\n",
       "      <td>기혼</td>\n",
       "      <td>경기 용인시 수지구 풍덕천2</td>\n",
       "      <td>39</td>\n",
       "      <td>5655670</td>\n",
       "      <td>1426.30</td>\n",
       "      <td>147</td>\n",
       "    </tr>\n",
       "    <tr>\n",
       "      <th>3487</th>\n",
       "      <td>5698</td>\n",
       "      <td>탈퇴</td>\n",
       "      <td>여</td>\n",
       "      <td>기혼</td>\n",
       "      <td>경기 용인시 수지구 신봉동</td>\n",
       "      <td>45</td>\n",
       "      <td>9511415</td>\n",
       "      <td>2024.37</td>\n",
       "      <td>146</td>\n",
       "    </tr>\n",
       "    <tr>\n",
       "      <th>9</th>\n",
       "      <td>2110</td>\n",
       "      <td>정상회원</td>\n",
       "      <td>여</td>\n",
       "      <td>기혼</td>\n",
       "      <td>경기 용인시 수지구 신봉동</td>\n",
       "      <td>53</td>\n",
       "      <td>5549725</td>\n",
       "      <td>1204.10</td>\n",
       "      <td>145</td>\n",
       "    </tr>\n",
       "    <tr>\n",
       "      <th>6</th>\n",
       "      <td>2107</td>\n",
       "      <td>정상회원</td>\n",
       "      <td>여</td>\n",
       "      <td>기혼</td>\n",
       "      <td>경기 용인시 수지구 신봉동</td>\n",
       "      <td>77</td>\n",
       "      <td>7161860</td>\n",
       "      <td>1419.75</td>\n",
       "      <td>143</td>\n",
       "    </tr>\n",
       "    <tr>\n",
       "      <th>297</th>\n",
       "      <td>2437</td>\n",
       "      <td>정상회원</td>\n",
       "      <td>여</td>\n",
       "      <td>기혼</td>\n",
       "      <td>경기 용인시 수지구 풍덕천1</td>\n",
       "      <td>45</td>\n",
       "      <td>5653580</td>\n",
       "      <td>1135.10</td>\n",
       "      <td>139</td>\n",
       "    </tr>\n",
       "    <tr>\n",
       "      <th>2199</th>\n",
       "      <td>4406</td>\n",
       "      <td>탈퇴</td>\n",
       "      <td>여</td>\n",
       "      <td>기혼</td>\n",
       "      <td>경기 용인시 수지구 신봉동</td>\n",
       "      <td>41</td>\n",
       "      <td>12824280</td>\n",
       "      <td>2831.30</td>\n",
       "      <td>139</td>\n",
       "    </tr>\n",
       "    <tr>\n",
       "      <th>1421</th>\n",
       "      <td>3626</td>\n",
       "      <td>탈퇴</td>\n",
       "      <td>여</td>\n",
       "      <td>기혼</td>\n",
       "      <td>경기 용인시 수지구 신봉동</td>\n",
       "      <td>47</td>\n",
       "      <td>9143295</td>\n",
       "      <td>1775.23</td>\n",
       "      <td>138</td>\n",
       "    </tr>\n",
       "    <tr>\n",
       "      <th>707</th>\n",
       "      <td>2887</td>\n",
       "      <td>정상회원</td>\n",
       "      <td>여</td>\n",
       "      <td>기혼</td>\n",
       "      <td>경기 용인시 수지구 풍덕천동</td>\n",
       "      <td>38</td>\n",
       "      <td>4713990</td>\n",
       "      <td>1144.10</td>\n",
       "      <td>137</td>\n",
       "    </tr>\n",
       "    <tr>\n",
       "      <th>130</th>\n",
       "      <td>2246</td>\n",
       "      <td>정상회원</td>\n",
       "      <td>여</td>\n",
       "      <td>기혼</td>\n",
       "      <td>경기 용인시 수지구 풍덕천동</td>\n",
       "      <td>40</td>\n",
       "      <td>7963710</td>\n",
       "      <td>1684.00</td>\n",
       "      <td>136</td>\n",
       "    </tr>\n",
       "  </tbody>\n",
       "</table>\n",
       "</div>"
      ],
      "text/plain": [
       "      회원번호  회원상태 성별 결혼유무               주소  연령     총구매금액    총구매수량  총방문횟수\n",
       "39    2141  정상회원  여   기혼  경기 용인시 수지구 풍덕천2  50  15302800  2896.70    173\n",
       "3645  5856    탈퇴  여   기혼   경기 용인시 수지구 신봉동  46  21217470  4006.96    172\n",
       "2441  4649    탈퇴  여   기혼  경기 용인시 수지구 풍덕천2  46  16471290  3447.20    171\n",
       "2857  5068    탈퇴  여   기혼   경기 용인시 수지구 동천동  47  21285710  4180.50    170\n",
       "156   2277  정상회원  여   기혼  경기 용인시 수지구 풍덕천2  47  21950630  4425.70    170\n",
       "1928  4135    탈퇴  여   기혼   경기 용인시 수지구 신봉동  49  18381620  3219.43    170\n",
       "142   2260  정상회원  여   기혼  경기 용인시 수지구 풍덕천동  41  18681595  3870.15    169\n",
       "166   2288  정상회원  여   기혼  경기 용인시 수지구 풍덕천동  50  17170370  2921.50    166\n",
       "103   2214  정상회원  여   기혼  경기 용인시 수지구 풍덕천2  42  14895300  2986.40    162\n",
       "372   2521  정상회원  여   기혼   경기 용인시 수지구 신봉동  44  13609730  2985.55    161\n",
       "202   2329  정상회원  여   기혼  경기 용인시 수지구 풍덕천2  56   5575655  1280.60    160\n",
       "113   2229  정상회원  여   기혼  경기 용인시 수지구 풍덕천동  42  13395720  2647.50    159\n",
       "233   2363  정상회원  여   기혼  경기 용인시 수지구 풍덕천동  47  10033855  2088.85    158\n",
       "479   2637    탈퇴  남   기혼  서울 중구 장충동1가 31-  35  19646542  3566.35    156\n",
       "1012  3203    탈퇴  여   기혼   경기 용인시 수지구 동천동  48  13786410  2785.40    155\n",
       "307   2449  정상회원  여   기혼  경기 용인시 수지구 풍덕천2  45   8853580  2048.35    153\n",
       "262   2397  정상회원  여   기혼  경기 용인시 수지구 풍덕천2  49   9319260  1687.80    152\n",
       "144   2263  정상회원  여   기혼  경기 용인시 수지구 풍덕천2  51  11917750  2279.30    152\n",
       "692   2871  정상회원  여   기혼   경기 용인시 수지구 성복동  48  15670140  2834.65    152\n",
       "186   2310  정상회원  여   기혼  경기 용인시 수지구 풍덕천2  43   8750730  1686.00    151\n",
       "806   2992  정상회원  여   기혼  경기 용인시 수지구 풍덕천동  49   9183600  1900.20    149\n",
       "2698  4909    탈퇴  여   기혼  경기 용인시 수지구 풍덕천2  39   5655670  1426.30    147\n",
       "3487  5698    탈퇴  여   기혼   경기 용인시 수지구 신봉동  45   9511415  2024.37    146\n",
       "9     2110  정상회원  여   기혼   경기 용인시 수지구 신봉동  53   5549725  1204.10    145\n",
       "6     2107  정상회원  여   기혼   경기 용인시 수지구 신봉동  77   7161860  1419.75    143\n",
       "297   2437  정상회원  여   기혼  경기 용인시 수지구 풍덕천1  45   5653580  1135.10    139\n",
       "2199  4406    탈퇴  여   기혼   경기 용인시 수지구 신봉동  41  12824280  2831.30    139\n",
       "1421  3626    탈퇴  여   기혼   경기 용인시 수지구 신봉동  47   9143295  1775.23    138\n",
       "707   2887  정상회원  여   기혼  경기 용인시 수지구 풍덕천동  38   4713990  1144.10    137\n",
       "130   2246  정상회원  여   기혼  경기 용인시 수지구 풍덕천동  40   7963710  1684.00    136"
      ]
     },
     "execution_count": 5,
     "metadata": {},
     "output_type": "execute_result"
    }
   ],
   "source": [
    "cond1 = (df1['결혼유무'] == '기혼')\n",
    "df1.loc[cond1].sort_values(by='총방문횟수', ascending=False).head(30)"
   ]
  },
  {
   "cell_type": "markdown",
   "metadata": {},
   "source": [
    "4. '연령'을 이용해, 고객 '연령대'를 계산하고, '총구매금액'의 합이 가장 높은 2개의 '연령대'를 확인하여, 두 연령대 간의 '총구매금액'의 평균의 차이를 계산 하시오."
   ]
  },
  {
   "cell_type": "code",
   "execution_count": 6,
   "metadata": {},
   "outputs": [
    {
     "data": {
      "text/plain": [
       "연령대\n",
       "40대       1326\n",
       "50대        919\n",
       "30대        882\n",
       "60대        676\n",
       "70대        368\n",
       "80대         74\n",
       "20대         34\n",
       "90대          4\n",
       "100세이상       2\n",
       "Name: count, dtype: int64"
      ]
     },
     "execution_count": 6,
     "metadata": {},
     "output_type": "execute_result"
    }
   ],
   "source": [
    "def age_sec(row) :\n",
    "    if row >= 100 :\n",
    "        return '100세이상'\n",
    "    else : return str(row)[0]+'0대'\n",
    "df1['연령대'] = df1['연령'].apply(age_sec)\n",
    "df1['연령대'].value_counts()"
   ]
  },
  {
   "cell_type": "code",
   "execution_count": 9,
   "metadata": {},
   "outputs": [
    {
     "name": "stdout",
     "output_type": "stream",
     "text": [
      "   연령대       총구매금액\n",
      "3  40대  1679359996\n",
      "4  50대   984225059\n",
      "195511.71931750863\n"
     ]
    }
   ],
   "source": [
    "p = df1.pivot_table(index='연령대', values='총구매금액', aggfunc='sum').reset_index()\n",
    "cond1 = p.sort_values(by='총구매금액', ascending=False).head(2)\n",
    "print(cond1)\n",
    "answer = abs(df1.loc[df1['연령대'] == cond1['연령대'].iloc[0]]['총구매금액'].mean() - df1.loc[df1['연령대'] == cond1['연령대'].iloc[1]]['총구매금액'].mean())\n",
    "print(answer)"
   ]
  },
  {
   "cell_type": "markdown",
   "metadata": {},
   "source": [
    "5. '회원상태'에 따른 '총구매금액'의 평균을 시각화 하시오."
   ]
  },
  {
   "cell_type": "code",
   "execution_count": 11,
   "metadata": {},
   "outputs": [
    {
     "data": {
      "application/vnd.plotly.v1+json": {
       "config": {
        "plotlyServerURL": "https://plot.ly"
       },
       "data": [
        {
         "alignmentgroup": "True",
         "bingroup": "x",
         "histfunc": "sum",
         "hovertemplate": "회원상태=%{x}<br>sum of 총구매금액평균=%{y}<extra></extra>",
         "legendgroup": "",
         "marker": {
          "color": "#636efa",
          "pattern": {
           "shape": ""
          }
         },
         "name": "",
         "offsetgroup": "",
         "orientation": "v",
         "showlegend": false,
         "type": "histogram",
         "x": [
          "이관처리중",
          "정상회원",
          "탈퇴",
          "탈퇴처리중"
         ],
         "xaxis": "x",
         "y": [
          43050,
          872618.8758454106,
          3869320.865248227,
          6208183.333333333
         ],
         "yaxis": "y"
        }
       ],
       "layout": {
        "barmode": "relative",
        "legend": {
         "tracegroupgap": 0
        },
        "margin": {
         "t": 60
        },
        "template": {
         "data": {
          "bar": [
           {
            "error_x": {
             "color": "#2a3f5f"
            },
            "error_y": {
             "color": "#2a3f5f"
            },
            "marker": {
             "line": {
              "color": "#E5ECF6",
              "width": 0.5
             },
             "pattern": {
              "fillmode": "overlay",
              "size": 10,
              "solidity": 0.2
             }
            },
            "type": "bar"
           }
          ],
          "barpolar": [
           {
            "marker": {
             "line": {
              "color": "#E5ECF6",
              "width": 0.5
             },
             "pattern": {
              "fillmode": "overlay",
              "size": 10,
              "solidity": 0.2
             }
            },
            "type": "barpolar"
           }
          ],
          "carpet": [
           {
            "aaxis": {
             "endlinecolor": "#2a3f5f",
             "gridcolor": "white",
             "linecolor": "white",
             "minorgridcolor": "white",
             "startlinecolor": "#2a3f5f"
            },
            "baxis": {
             "endlinecolor": "#2a3f5f",
             "gridcolor": "white",
             "linecolor": "white",
             "minorgridcolor": "white",
             "startlinecolor": "#2a3f5f"
            },
            "type": "carpet"
           }
          ],
          "choropleth": [
           {
            "colorbar": {
             "outlinewidth": 0,
             "ticks": ""
            },
            "type": "choropleth"
           }
          ],
          "contour": [
           {
            "colorbar": {
             "outlinewidth": 0,
             "ticks": ""
            },
            "colorscale": [
             [
              0,
              "#0d0887"
             ],
             [
              0.1111111111111111,
              "#46039f"
             ],
             [
              0.2222222222222222,
              "#7201a8"
             ],
             [
              0.3333333333333333,
              "#9c179e"
             ],
             [
              0.4444444444444444,
              "#bd3786"
             ],
             [
              0.5555555555555556,
              "#d8576b"
             ],
             [
              0.6666666666666666,
              "#ed7953"
             ],
             [
              0.7777777777777778,
              "#fb9f3a"
             ],
             [
              0.8888888888888888,
              "#fdca26"
             ],
             [
              1,
              "#f0f921"
             ]
            ],
            "type": "contour"
           }
          ],
          "contourcarpet": [
           {
            "colorbar": {
             "outlinewidth": 0,
             "ticks": ""
            },
            "type": "contourcarpet"
           }
          ],
          "heatmap": [
           {
            "colorbar": {
             "outlinewidth": 0,
             "ticks": ""
            },
            "colorscale": [
             [
              0,
              "#0d0887"
             ],
             [
              0.1111111111111111,
              "#46039f"
             ],
             [
              0.2222222222222222,
              "#7201a8"
             ],
             [
              0.3333333333333333,
              "#9c179e"
             ],
             [
              0.4444444444444444,
              "#bd3786"
             ],
             [
              0.5555555555555556,
              "#d8576b"
             ],
             [
              0.6666666666666666,
              "#ed7953"
             ],
             [
              0.7777777777777778,
              "#fb9f3a"
             ],
             [
              0.8888888888888888,
              "#fdca26"
             ],
             [
              1,
              "#f0f921"
             ]
            ],
            "type": "heatmap"
           }
          ],
          "heatmapgl": [
           {
            "colorbar": {
             "outlinewidth": 0,
             "ticks": ""
            },
            "colorscale": [
             [
              0,
              "#0d0887"
             ],
             [
              0.1111111111111111,
              "#46039f"
             ],
             [
              0.2222222222222222,
              "#7201a8"
             ],
             [
              0.3333333333333333,
              "#9c179e"
             ],
             [
              0.4444444444444444,
              "#bd3786"
             ],
             [
              0.5555555555555556,
              "#d8576b"
             ],
             [
              0.6666666666666666,
              "#ed7953"
             ],
             [
              0.7777777777777778,
              "#fb9f3a"
             ],
             [
              0.8888888888888888,
              "#fdca26"
             ],
             [
              1,
              "#f0f921"
             ]
            ],
            "type": "heatmapgl"
           }
          ],
          "histogram": [
           {
            "marker": {
             "pattern": {
              "fillmode": "overlay",
              "size": 10,
              "solidity": 0.2
             }
            },
            "type": "histogram"
           }
          ],
          "histogram2d": [
           {
            "colorbar": {
             "outlinewidth": 0,
             "ticks": ""
            },
            "colorscale": [
             [
              0,
              "#0d0887"
             ],
             [
              0.1111111111111111,
              "#46039f"
             ],
             [
              0.2222222222222222,
              "#7201a8"
             ],
             [
              0.3333333333333333,
              "#9c179e"
             ],
             [
              0.4444444444444444,
              "#bd3786"
             ],
             [
              0.5555555555555556,
              "#d8576b"
             ],
             [
              0.6666666666666666,
              "#ed7953"
             ],
             [
              0.7777777777777778,
              "#fb9f3a"
             ],
             [
              0.8888888888888888,
              "#fdca26"
             ],
             [
              1,
              "#f0f921"
             ]
            ],
            "type": "histogram2d"
           }
          ],
          "histogram2dcontour": [
           {
            "colorbar": {
             "outlinewidth": 0,
             "ticks": ""
            },
            "colorscale": [
             [
              0,
              "#0d0887"
             ],
             [
              0.1111111111111111,
              "#46039f"
             ],
             [
              0.2222222222222222,
              "#7201a8"
             ],
             [
              0.3333333333333333,
              "#9c179e"
             ],
             [
              0.4444444444444444,
              "#bd3786"
             ],
             [
              0.5555555555555556,
              "#d8576b"
             ],
             [
              0.6666666666666666,
              "#ed7953"
             ],
             [
              0.7777777777777778,
              "#fb9f3a"
             ],
             [
              0.8888888888888888,
              "#fdca26"
             ],
             [
              1,
              "#f0f921"
             ]
            ],
            "type": "histogram2dcontour"
           }
          ],
          "mesh3d": [
           {
            "colorbar": {
             "outlinewidth": 0,
             "ticks": ""
            },
            "type": "mesh3d"
           }
          ],
          "parcoords": [
           {
            "line": {
             "colorbar": {
              "outlinewidth": 0,
              "ticks": ""
             }
            },
            "type": "parcoords"
           }
          ],
          "pie": [
           {
            "automargin": true,
            "type": "pie"
           }
          ],
          "scatter": [
           {
            "fillpattern": {
             "fillmode": "overlay",
             "size": 10,
             "solidity": 0.2
            },
            "type": "scatter"
           }
          ],
          "scatter3d": [
           {
            "line": {
             "colorbar": {
              "outlinewidth": 0,
              "ticks": ""
             }
            },
            "marker": {
             "colorbar": {
              "outlinewidth": 0,
              "ticks": ""
             }
            },
            "type": "scatter3d"
           }
          ],
          "scattercarpet": [
           {
            "marker": {
             "colorbar": {
              "outlinewidth": 0,
              "ticks": ""
             }
            },
            "type": "scattercarpet"
           }
          ],
          "scattergeo": [
           {
            "marker": {
             "colorbar": {
              "outlinewidth": 0,
              "ticks": ""
             }
            },
            "type": "scattergeo"
           }
          ],
          "scattergl": [
           {
            "marker": {
             "colorbar": {
              "outlinewidth": 0,
              "ticks": ""
             }
            },
            "type": "scattergl"
           }
          ],
          "scattermapbox": [
           {
            "marker": {
             "colorbar": {
              "outlinewidth": 0,
              "ticks": ""
             }
            },
            "type": "scattermapbox"
           }
          ],
          "scatterpolar": [
           {
            "marker": {
             "colorbar": {
              "outlinewidth": 0,
              "ticks": ""
             }
            },
            "type": "scatterpolar"
           }
          ],
          "scatterpolargl": [
           {
            "marker": {
             "colorbar": {
              "outlinewidth": 0,
              "ticks": ""
             }
            },
            "type": "scatterpolargl"
           }
          ],
          "scatterternary": [
           {
            "marker": {
             "colorbar": {
              "outlinewidth": 0,
              "ticks": ""
             }
            },
            "type": "scatterternary"
           }
          ],
          "surface": [
           {
            "colorbar": {
             "outlinewidth": 0,
             "ticks": ""
            },
            "colorscale": [
             [
              0,
              "#0d0887"
             ],
             [
              0.1111111111111111,
              "#46039f"
             ],
             [
              0.2222222222222222,
              "#7201a8"
             ],
             [
              0.3333333333333333,
              "#9c179e"
             ],
             [
              0.4444444444444444,
              "#bd3786"
             ],
             [
              0.5555555555555556,
              "#d8576b"
             ],
             [
              0.6666666666666666,
              "#ed7953"
             ],
             [
              0.7777777777777778,
              "#fb9f3a"
             ],
             [
              0.8888888888888888,
              "#fdca26"
             ],
             [
              1,
              "#f0f921"
             ]
            ],
            "type": "surface"
           }
          ],
          "table": [
           {
            "cells": {
             "fill": {
              "color": "#EBF0F8"
             },
             "line": {
              "color": "white"
             }
            },
            "header": {
             "fill": {
              "color": "#C8D4E3"
             },
             "line": {
              "color": "white"
             }
            },
            "type": "table"
           }
          ]
         },
         "layout": {
          "annotationdefaults": {
           "arrowcolor": "#2a3f5f",
           "arrowhead": 0,
           "arrowwidth": 1
          },
          "autotypenumbers": "strict",
          "coloraxis": {
           "colorbar": {
            "outlinewidth": 0,
            "ticks": ""
           }
          },
          "colorscale": {
           "diverging": [
            [
             0,
             "#8e0152"
            ],
            [
             0.1,
             "#c51b7d"
            ],
            [
             0.2,
             "#de77ae"
            ],
            [
             0.3,
             "#f1b6da"
            ],
            [
             0.4,
             "#fde0ef"
            ],
            [
             0.5,
             "#f7f7f7"
            ],
            [
             0.6,
             "#e6f5d0"
            ],
            [
             0.7,
             "#b8e186"
            ],
            [
             0.8,
             "#7fbc41"
            ],
            [
             0.9,
             "#4d9221"
            ],
            [
             1,
             "#276419"
            ]
           ],
           "sequential": [
            [
             0,
             "#0d0887"
            ],
            [
             0.1111111111111111,
             "#46039f"
            ],
            [
             0.2222222222222222,
             "#7201a8"
            ],
            [
             0.3333333333333333,
             "#9c179e"
            ],
            [
             0.4444444444444444,
             "#bd3786"
            ],
            [
             0.5555555555555556,
             "#d8576b"
            ],
            [
             0.6666666666666666,
             "#ed7953"
            ],
            [
             0.7777777777777778,
             "#fb9f3a"
            ],
            [
             0.8888888888888888,
             "#fdca26"
            ],
            [
             1,
             "#f0f921"
            ]
           ],
           "sequentialminus": [
            [
             0,
             "#0d0887"
            ],
            [
             0.1111111111111111,
             "#46039f"
            ],
            [
             0.2222222222222222,
             "#7201a8"
            ],
            [
             0.3333333333333333,
             "#9c179e"
            ],
            [
             0.4444444444444444,
             "#bd3786"
            ],
            [
             0.5555555555555556,
             "#d8576b"
            ],
            [
             0.6666666666666666,
             "#ed7953"
            ],
            [
             0.7777777777777778,
             "#fb9f3a"
            ],
            [
             0.8888888888888888,
             "#fdca26"
            ],
            [
             1,
             "#f0f921"
            ]
           ]
          },
          "colorway": [
           "#636efa",
           "#EF553B",
           "#00cc96",
           "#ab63fa",
           "#FFA15A",
           "#19d3f3",
           "#FF6692",
           "#B6E880",
           "#FF97FF",
           "#FECB52"
          ],
          "font": {
           "color": "#2a3f5f"
          },
          "geo": {
           "bgcolor": "white",
           "lakecolor": "white",
           "landcolor": "#E5ECF6",
           "showlakes": true,
           "showland": true,
           "subunitcolor": "white"
          },
          "hoverlabel": {
           "align": "left"
          },
          "hovermode": "closest",
          "mapbox": {
           "style": "light"
          },
          "paper_bgcolor": "white",
          "plot_bgcolor": "#E5ECF6",
          "polar": {
           "angularaxis": {
            "gridcolor": "white",
            "linecolor": "white",
            "ticks": ""
           },
           "bgcolor": "#E5ECF6",
           "radialaxis": {
            "gridcolor": "white",
            "linecolor": "white",
            "ticks": ""
           }
          },
          "scene": {
           "xaxis": {
            "backgroundcolor": "#E5ECF6",
            "gridcolor": "white",
            "gridwidth": 2,
            "linecolor": "white",
            "showbackground": true,
            "ticks": "",
            "zerolinecolor": "white"
           },
           "yaxis": {
            "backgroundcolor": "#E5ECF6",
            "gridcolor": "white",
            "gridwidth": 2,
            "linecolor": "white",
            "showbackground": true,
            "ticks": "",
            "zerolinecolor": "white"
           },
           "zaxis": {
            "backgroundcolor": "#E5ECF6",
            "gridcolor": "white",
            "gridwidth": 2,
            "linecolor": "white",
            "showbackground": true,
            "ticks": "",
            "zerolinecolor": "white"
           }
          },
          "shapedefaults": {
           "line": {
            "color": "#2a3f5f"
           }
          },
          "ternary": {
           "aaxis": {
            "gridcolor": "white",
            "linecolor": "white",
            "ticks": ""
           },
           "baxis": {
            "gridcolor": "white",
            "linecolor": "white",
            "ticks": ""
           },
           "bgcolor": "#E5ECF6",
           "caxis": {
            "gridcolor": "white",
            "linecolor": "white",
            "ticks": ""
           }
          },
          "title": {
           "x": 0.05
          },
          "xaxis": {
           "automargin": true,
           "gridcolor": "white",
           "linecolor": "white",
           "ticks": "",
           "title": {
            "standoff": 15
           },
           "zerolinecolor": "white",
           "zerolinewidth": 2
          },
          "yaxis": {
           "automargin": true,
           "gridcolor": "white",
           "linecolor": "white",
           "ticks": "",
           "title": {
            "standoff": 15
           },
           "zerolinecolor": "white",
           "zerolinewidth": 2
          }
         }
        },
        "xaxis": {
         "anchor": "y",
         "domain": [
          0,
          1
         ],
         "title": {
          "text": "회원상태"
         }
        },
        "yaxis": {
         "anchor": "x",
         "domain": [
          0,
          1
         ],
         "title": {
          "text": "sum of 총구매금액평균"
         }
        }
       }
      }
     },
     "metadata": {},
     "output_type": "display_data"
    }
   ],
   "source": [
    "p2 = df1.pivot_table(index='회원상태', values='총구매금액', aggfunc='mean').reset_index().rename(columns={'총구매금액':'총구매금액평균'})\n",
    "px.histogram(p2, x='회원상태',y='총구매금액평균')"
   ]
  },
  {
   "cell_type": "code",
   "execution_count": 4,
   "metadata": {},
   "outputs": [
    {
     "data": {
      "application/vnd.plotly.v1+json": {
       "config": {
        "plotlyServerURL": "https://plot.ly"
       },
       "data": [
        {
         "alignmentgroup": "True",
         "bingroup": "x",
         "histfunc": "sum",
         "hovertemplate": "회원상태=%{x}<br>sum of 총구매금액=%{y}<extra></extra>",
         "legendgroup": "",
         "marker": {
          "color": "#636efa",
          "pattern": {
           "shape": ""
          }
         },
         "name": "",
         "offsetgroup": "",
         "orientation": "v",
         "showlegend": false,
         "type": "histogram",
         "x": [
          "이관처리중",
          "정상회원",
          "탈퇴",
          "탈퇴처리중"
         ],
         "xaxis": "x",
         "y": [
          43050,
          872618.8758454106,
          3869320.865248227,
          6208183.333333333
         ],
         "yaxis": "y"
        }
       ],
       "layout": {
        "barmode": "relative",
        "legend": {
         "tracegroupgap": 0
        },
        "margin": {
         "t": 60
        },
        "template": {
         "data": {
          "bar": [
           {
            "error_x": {
             "color": "#2a3f5f"
            },
            "error_y": {
             "color": "#2a3f5f"
            },
            "marker": {
             "line": {
              "color": "#E5ECF6",
              "width": 0.5
             },
             "pattern": {
              "fillmode": "overlay",
              "size": 10,
              "solidity": 0.2
             }
            },
            "type": "bar"
           }
          ],
          "barpolar": [
           {
            "marker": {
             "line": {
              "color": "#E5ECF6",
              "width": 0.5
             },
             "pattern": {
              "fillmode": "overlay",
              "size": 10,
              "solidity": 0.2
             }
            },
            "type": "barpolar"
           }
          ],
          "carpet": [
           {
            "aaxis": {
             "endlinecolor": "#2a3f5f",
             "gridcolor": "white",
             "linecolor": "white",
             "minorgridcolor": "white",
             "startlinecolor": "#2a3f5f"
            },
            "baxis": {
             "endlinecolor": "#2a3f5f",
             "gridcolor": "white",
             "linecolor": "white",
             "minorgridcolor": "white",
             "startlinecolor": "#2a3f5f"
            },
            "type": "carpet"
           }
          ],
          "choropleth": [
           {
            "colorbar": {
             "outlinewidth": 0,
             "ticks": ""
            },
            "type": "choropleth"
           }
          ],
          "contour": [
           {
            "colorbar": {
             "outlinewidth": 0,
             "ticks": ""
            },
            "colorscale": [
             [
              0,
              "#0d0887"
             ],
             [
              0.1111111111111111,
              "#46039f"
             ],
             [
              0.2222222222222222,
              "#7201a8"
             ],
             [
              0.3333333333333333,
              "#9c179e"
             ],
             [
              0.4444444444444444,
              "#bd3786"
             ],
             [
              0.5555555555555556,
              "#d8576b"
             ],
             [
              0.6666666666666666,
              "#ed7953"
             ],
             [
              0.7777777777777778,
              "#fb9f3a"
             ],
             [
              0.8888888888888888,
              "#fdca26"
             ],
             [
              1,
              "#f0f921"
             ]
            ],
            "type": "contour"
           }
          ],
          "contourcarpet": [
           {
            "colorbar": {
             "outlinewidth": 0,
             "ticks": ""
            },
            "type": "contourcarpet"
           }
          ],
          "heatmap": [
           {
            "colorbar": {
             "outlinewidth": 0,
             "ticks": ""
            },
            "colorscale": [
             [
              0,
              "#0d0887"
             ],
             [
              0.1111111111111111,
              "#46039f"
             ],
             [
              0.2222222222222222,
              "#7201a8"
             ],
             [
              0.3333333333333333,
              "#9c179e"
             ],
             [
              0.4444444444444444,
              "#bd3786"
             ],
             [
              0.5555555555555556,
              "#d8576b"
             ],
             [
              0.6666666666666666,
              "#ed7953"
             ],
             [
              0.7777777777777778,
              "#fb9f3a"
             ],
             [
              0.8888888888888888,
              "#fdca26"
             ],
             [
              1,
              "#f0f921"
             ]
            ],
            "type": "heatmap"
           }
          ],
          "heatmapgl": [
           {
            "colorbar": {
             "outlinewidth": 0,
             "ticks": ""
            },
            "colorscale": [
             [
              0,
              "#0d0887"
             ],
             [
              0.1111111111111111,
              "#46039f"
             ],
             [
              0.2222222222222222,
              "#7201a8"
             ],
             [
              0.3333333333333333,
              "#9c179e"
             ],
             [
              0.4444444444444444,
              "#bd3786"
             ],
             [
              0.5555555555555556,
              "#d8576b"
             ],
             [
              0.6666666666666666,
              "#ed7953"
             ],
             [
              0.7777777777777778,
              "#fb9f3a"
             ],
             [
              0.8888888888888888,
              "#fdca26"
             ],
             [
              1,
              "#f0f921"
             ]
            ],
            "type": "heatmapgl"
           }
          ],
          "histogram": [
           {
            "marker": {
             "pattern": {
              "fillmode": "overlay",
              "size": 10,
              "solidity": 0.2
             }
            },
            "type": "histogram"
           }
          ],
          "histogram2d": [
           {
            "colorbar": {
             "outlinewidth": 0,
             "ticks": ""
            },
            "colorscale": [
             [
              0,
              "#0d0887"
             ],
             [
              0.1111111111111111,
              "#46039f"
             ],
             [
              0.2222222222222222,
              "#7201a8"
             ],
             [
              0.3333333333333333,
              "#9c179e"
             ],
             [
              0.4444444444444444,
              "#bd3786"
             ],
             [
              0.5555555555555556,
              "#d8576b"
             ],
             [
              0.6666666666666666,
              "#ed7953"
             ],
             [
              0.7777777777777778,
              "#fb9f3a"
             ],
             [
              0.8888888888888888,
              "#fdca26"
             ],
             [
              1,
              "#f0f921"
             ]
            ],
            "type": "histogram2d"
           }
          ],
          "histogram2dcontour": [
           {
            "colorbar": {
             "outlinewidth": 0,
             "ticks": ""
            },
            "colorscale": [
             [
              0,
              "#0d0887"
             ],
             [
              0.1111111111111111,
              "#46039f"
             ],
             [
              0.2222222222222222,
              "#7201a8"
             ],
             [
              0.3333333333333333,
              "#9c179e"
             ],
             [
              0.4444444444444444,
              "#bd3786"
             ],
             [
              0.5555555555555556,
              "#d8576b"
             ],
             [
              0.6666666666666666,
              "#ed7953"
             ],
             [
              0.7777777777777778,
              "#fb9f3a"
             ],
             [
              0.8888888888888888,
              "#fdca26"
             ],
             [
              1,
              "#f0f921"
             ]
            ],
            "type": "histogram2dcontour"
           }
          ],
          "mesh3d": [
           {
            "colorbar": {
             "outlinewidth": 0,
             "ticks": ""
            },
            "type": "mesh3d"
           }
          ],
          "parcoords": [
           {
            "line": {
             "colorbar": {
              "outlinewidth": 0,
              "ticks": ""
             }
            },
            "type": "parcoords"
           }
          ],
          "pie": [
           {
            "automargin": true,
            "type": "pie"
           }
          ],
          "scatter": [
           {
            "fillpattern": {
             "fillmode": "overlay",
             "size": 10,
             "solidity": 0.2
            },
            "type": "scatter"
           }
          ],
          "scatter3d": [
           {
            "line": {
             "colorbar": {
              "outlinewidth": 0,
              "ticks": ""
             }
            },
            "marker": {
             "colorbar": {
              "outlinewidth": 0,
              "ticks": ""
             }
            },
            "type": "scatter3d"
           }
          ],
          "scattercarpet": [
           {
            "marker": {
             "colorbar": {
              "outlinewidth": 0,
              "ticks": ""
             }
            },
            "type": "scattercarpet"
           }
          ],
          "scattergeo": [
           {
            "marker": {
             "colorbar": {
              "outlinewidth": 0,
              "ticks": ""
             }
            },
            "type": "scattergeo"
           }
          ],
          "scattergl": [
           {
            "marker": {
             "colorbar": {
              "outlinewidth": 0,
              "ticks": ""
             }
            },
            "type": "scattergl"
           }
          ],
          "scattermapbox": [
           {
            "marker": {
             "colorbar": {
              "outlinewidth": 0,
              "ticks": ""
             }
            },
            "type": "scattermapbox"
           }
          ],
          "scatterpolar": [
           {
            "marker": {
             "colorbar": {
              "outlinewidth": 0,
              "ticks": ""
             }
            },
            "type": "scatterpolar"
           }
          ],
          "scatterpolargl": [
           {
            "marker": {
             "colorbar": {
              "outlinewidth": 0,
              "ticks": ""
             }
            },
            "type": "scatterpolargl"
           }
          ],
          "scatterternary": [
           {
            "marker": {
             "colorbar": {
              "outlinewidth": 0,
              "ticks": ""
             }
            },
            "type": "scatterternary"
           }
          ],
          "surface": [
           {
            "colorbar": {
             "outlinewidth": 0,
             "ticks": ""
            },
            "colorscale": [
             [
              0,
              "#0d0887"
             ],
             [
              0.1111111111111111,
              "#46039f"
             ],
             [
              0.2222222222222222,
              "#7201a8"
             ],
             [
              0.3333333333333333,
              "#9c179e"
             ],
             [
              0.4444444444444444,
              "#bd3786"
             ],
             [
              0.5555555555555556,
              "#d8576b"
             ],
             [
              0.6666666666666666,
              "#ed7953"
             ],
             [
              0.7777777777777778,
              "#fb9f3a"
             ],
             [
              0.8888888888888888,
              "#fdca26"
             ],
             [
              1,
              "#f0f921"
             ]
            ],
            "type": "surface"
           }
          ],
          "table": [
           {
            "cells": {
             "fill": {
              "color": "#EBF0F8"
             },
             "line": {
              "color": "white"
             }
            },
            "header": {
             "fill": {
              "color": "#C8D4E3"
             },
             "line": {
              "color": "white"
             }
            },
            "type": "table"
           }
          ]
         },
         "layout": {
          "annotationdefaults": {
           "arrowcolor": "#2a3f5f",
           "arrowhead": 0,
           "arrowwidth": 1
          },
          "autotypenumbers": "strict",
          "coloraxis": {
           "colorbar": {
            "outlinewidth": 0,
            "ticks": ""
           }
          },
          "colorscale": {
           "diverging": [
            [
             0,
             "#8e0152"
            ],
            [
             0.1,
             "#c51b7d"
            ],
            [
             0.2,
             "#de77ae"
            ],
            [
             0.3,
             "#f1b6da"
            ],
            [
             0.4,
             "#fde0ef"
            ],
            [
             0.5,
             "#f7f7f7"
            ],
            [
             0.6,
             "#e6f5d0"
            ],
            [
             0.7,
             "#b8e186"
            ],
            [
             0.8,
             "#7fbc41"
            ],
            [
             0.9,
             "#4d9221"
            ],
            [
             1,
             "#276419"
            ]
           ],
           "sequential": [
            [
             0,
             "#0d0887"
            ],
            [
             0.1111111111111111,
             "#46039f"
            ],
            [
             0.2222222222222222,
             "#7201a8"
            ],
            [
             0.3333333333333333,
             "#9c179e"
            ],
            [
             0.4444444444444444,
             "#bd3786"
            ],
            [
             0.5555555555555556,
             "#d8576b"
            ],
            [
             0.6666666666666666,
             "#ed7953"
            ],
            [
             0.7777777777777778,
             "#fb9f3a"
            ],
            [
             0.8888888888888888,
             "#fdca26"
            ],
            [
             1,
             "#f0f921"
            ]
           ],
           "sequentialminus": [
            [
             0,
             "#0d0887"
            ],
            [
             0.1111111111111111,
             "#46039f"
            ],
            [
             0.2222222222222222,
             "#7201a8"
            ],
            [
             0.3333333333333333,
             "#9c179e"
            ],
            [
             0.4444444444444444,
             "#bd3786"
            ],
            [
             0.5555555555555556,
             "#d8576b"
            ],
            [
             0.6666666666666666,
             "#ed7953"
            ],
            [
             0.7777777777777778,
             "#fb9f3a"
            ],
            [
             0.8888888888888888,
             "#fdca26"
            ],
            [
             1,
             "#f0f921"
            ]
           ]
          },
          "colorway": [
           "#636efa",
           "#EF553B",
           "#00cc96",
           "#ab63fa",
           "#FFA15A",
           "#19d3f3",
           "#FF6692",
           "#B6E880",
           "#FF97FF",
           "#FECB52"
          ],
          "font": {
           "color": "#2a3f5f"
          },
          "geo": {
           "bgcolor": "white",
           "lakecolor": "white",
           "landcolor": "#E5ECF6",
           "showlakes": true,
           "showland": true,
           "subunitcolor": "white"
          },
          "hoverlabel": {
           "align": "left"
          },
          "hovermode": "closest",
          "mapbox": {
           "style": "light"
          },
          "paper_bgcolor": "white",
          "plot_bgcolor": "#E5ECF6",
          "polar": {
           "angularaxis": {
            "gridcolor": "white",
            "linecolor": "white",
            "ticks": ""
           },
           "bgcolor": "#E5ECF6",
           "radialaxis": {
            "gridcolor": "white",
            "linecolor": "white",
            "ticks": ""
           }
          },
          "scene": {
           "xaxis": {
            "backgroundcolor": "#E5ECF6",
            "gridcolor": "white",
            "gridwidth": 2,
            "linecolor": "white",
            "showbackground": true,
            "ticks": "",
            "zerolinecolor": "white"
           },
           "yaxis": {
            "backgroundcolor": "#E5ECF6",
            "gridcolor": "white",
            "gridwidth": 2,
            "linecolor": "white",
            "showbackground": true,
            "ticks": "",
            "zerolinecolor": "white"
           },
           "zaxis": {
            "backgroundcolor": "#E5ECF6",
            "gridcolor": "white",
            "gridwidth": 2,
            "linecolor": "white",
            "showbackground": true,
            "ticks": "",
            "zerolinecolor": "white"
           }
          },
          "shapedefaults": {
           "line": {
            "color": "#2a3f5f"
           }
          },
          "ternary": {
           "aaxis": {
            "gridcolor": "white",
            "linecolor": "white",
            "ticks": ""
           },
           "baxis": {
            "gridcolor": "white",
            "linecolor": "white",
            "ticks": ""
           },
           "bgcolor": "#E5ECF6",
           "caxis": {
            "gridcolor": "white",
            "linecolor": "white",
            "ticks": ""
           }
          },
          "title": {
           "x": 0.05
          },
          "xaxis": {
           "automargin": true,
           "gridcolor": "white",
           "linecolor": "white",
           "ticks": "",
           "title": {
            "standoff": 15
           },
           "zerolinecolor": "white",
           "zerolinewidth": 2
          },
          "yaxis": {
           "automargin": true,
           "gridcolor": "white",
           "linecolor": "white",
           "ticks": "",
           "title": {
            "standoff": 15
           },
           "zerolinecolor": "white",
           "zerolinewidth": 2
          }
         }
        },
        "xaxis": {
         "anchor": "y",
         "domain": [
          0,
          1
         ],
         "title": {
          "text": "회원상태"
         }
        },
        "yaxis": {
         "anchor": "x",
         "domain": [
          0,
          1
         ],
         "title": {
          "text": "sum of 총구매금액"
         }
        }
       }
      }
     },
     "metadata": {},
     "output_type": "display_data"
    }
   ],
   "source": [
    "pv1 = df1.pivot_table(index='회원상태',values='총구매금액',aggfunc='mean').reset_index()\n",
    "px.histogram(pv1,x='회원상태',y='총구매금액')"
   ]
  },
  {
   "cell_type": "markdown",
   "metadata": {},
   "source": [
    "6. '총구매금액'을 '총방문횟수'로 나누어, '1회방문구매평균'을 계산하고, 생성된 파생변수를 바탕으로 아래와 같이 고객등급을 분류하시오.\n",
    "    - '1회방문구매평균'이 10만원 이상 고객은 A / 5만원 이상은 B / 2만원 이상 C / 나머지는 D 등급으로 분류\n",
    "    - 분류된 고객 등급은 '고객등급'이라는 새로운 파생변수로 생성"
   ]
  },
  {
   "cell_type": "code",
   "execution_count": 6,
   "metadata": {},
   "outputs": [],
   "source": [
    "df1['1회방문구매평균'] = df1['총구매금액'] / df1['총방문횟수']\n",
    "def cus_grade(row) :\n",
    "    if row >= 100000 :\n",
    "        return 'A'\n",
    "    elif row >= 50000 :\n",
    "        return 'B'\n",
    "    elif row >= 20000 :\n",
    "        return 'C'\n",
    "    else : return 'D'\n",
    "df1['고객등급'] = df1['1회방문구매평균'].apply(cus_grade)"
   ]
  },
  {
   "cell_type": "markdown",
   "metadata": {},
   "source": [
    "7. 새로 생성된 파생변수 '고객등급'에서 '기혼자가 가장 많은 그룹은 어디 그룹인지 확인하시오."
   ]
  },
  {
   "cell_type": "code",
   "execution_count": 19,
   "metadata": {},
   "outputs": [
    {
     "data": {
      "text/plain": [
       "4    C\n",
       "Name: 고객등급, dtype: object"
      ]
     },
     "execution_count": 19,
     "metadata": {},
     "output_type": "execute_result"
    }
   ],
   "source": [
    "df1['label'] = 1\n",
    "pv2 = df1.pivot_table(index=['고객등급','결혼유무'],values='label',aggfunc='sum').reset_index()\n",
    "pv2.loc[pv2['결혼유무'] == '기혼'].sort_values(by='label',ascending=False).head(1)['고객등급']"
   ]
  },
  {
   "cell_type": "markdown",
   "metadata": {},
   "source": [
    "8. df2 데이터에서 '주소'데이터를 바탕으로, '지역(시)'이라는 이름의 새로운 파생변수를 생성 하시오.\n",
    "    - 서울시 / 용인시 / 성남시 /수원시 /광주시 / 나머지 지역은 기타로 분류"
   ]
  },
  {
   "cell_type": "code",
   "execution_count": 28,
   "metadata": {},
   "outputs": [
    {
     "data": {
      "text/plain": [
       "array(['서울시', '용인시', '성남시', '기타', '수원시', '광주시'], dtype=object)"
      ]
     },
     "execution_count": 28,
     "metadata": {},
     "output_type": "execute_result"
    }
   ],
   "source": [
    "def new_address(row) :\n",
    "    if row[0:2] == '서울' :\n",
    "        return '서울시'\n",
    "    elif row[3:6] in ['용인시','성남시','수원시','광주시'] :\n",
    "        return row[3:6]\n",
    "    else : return '기타'\n",
    "\n",
    "df1['지역(시)'] = df1['주소'].apply(new_address)\n",
    "df1['지역(시)'].unique()"
   ]
  },
  {
   "cell_type": "markdown",
   "metadata": {},
   "source": [
    "9. '고객등급'을 입력했을 때, 해당 고객등급에서 '성별'에 따른 '총구매금액' 기술통계량을 계산하여 'result9_등급명.xlsx'저장하는 프로그램을 구성 하시오."
   ]
  },
  {
   "cell_type": "code",
   "execution_count": 33,
   "metadata": {},
   "outputs": [],
   "source": [
    "def input_grade() :\n",
    "    grade = input()\n",
    "    df2 = df1.loc[df1['고객등급']==grade]\n",
    "    pv = df2.pivot_table(index='성별',values='총구매금액',aggfunc=['sum','min','median','max','mean']).reset_index()\n",
    "    pv.to_excel(f'result9_{grade}.xlsx')\n",
    "    return\n",
    "input_grade()"
   ]
  },
  {
   "cell_type": "markdown",
   "metadata": {},
   "source": [
    "10. 각 회원 별 ‘물품대분류’에서 각 물품을 어느 정도 비중으로 구매했는지 계산하고자 한다. df_product 에서, ‘물품대분류’의 항목을 확인하고, ‘회원번호’ 별 ‘물품 대분류의 구매수량을 계산한 후, 한명의 회원이 구매한 전체 수량으로 나누어 각 품목 별 구매 비율을 계산 df1에 병합하시오."
   ]
  },
  {
   "cell_type": "code",
   "execution_count": 138,
   "metadata": {},
   "outputs": [],
   "source": [
    "df_member = pd.read_csv('03_store_member.csv')\n",
    "df_product = pd.read_csv('03_store_product.csv')"
   ]
  },
  {
   "cell_type": "code",
   "execution_count": 139,
   "metadata": {},
   "outputs": [
    {
     "name": "stdout",
     "output_type": "stream",
     "text": [
      "<class 'pandas.core.frame.DataFrame'>\n",
      "RangeIndex: 735783 entries, 0 to 735782\n",
      "Data columns (total 11 columns):\n",
      " #   Column    Non-Null Count   Dtype  \n",
      "---  ------    --------------   -----  \n",
      " 0   공급일자      735783 non-null  int64  \n",
      " 1   물품코드      735783 non-null  int64  \n",
      " 2   물품대분류     735783 non-null  object \n",
      " 3   물품중분류     735783 non-null  object \n",
      " 4   물품소분류     735783 non-null  object \n",
      " 5   물품명       735783 non-null  object \n",
      " 6   구매수량      735783 non-null  float64\n",
      " 7   구매금액      735783 non-null  int64  \n",
      " 8   구매매장      735783 non-null  object \n",
      " 9   반품_원거래일자  10337 non-null   float64\n",
      " 10  회원번호      735761 non-null  float64\n",
      "dtypes: float64(3), int64(3), object(5)\n",
      "memory usage: 61.7+ MB\n"
     ]
    }
   ],
   "source": [
    "df_product.info()"
   ]
  },
  {
   "cell_type": "code",
   "execution_count": 140,
   "metadata": {},
   "outputs": [],
   "source": [
    "def new_cus_num(row) :\n",
    "    return str(row)[:4]\n",
    "df_product['회원번호'] = df_product['회원번호'].apply(new_cus_num)"
   ]
  },
  {
   "cell_type": "code",
   "execution_count": 141,
   "metadata": {},
   "outputs": [],
   "source": [
    "df_product['label'] = 1\n",
    "pv3 = df_product.pivot_table(index='회원번호',columns='물품대분류',values='label',aggfunc='sum').fillna(0)"
   ]
  },
  {
   "cell_type": "code",
   "execution_count": 152,
   "metadata": {},
   "outputs": [],
   "source": [
    "df_10 = pd.DataFrame(columns=['회원번호','간식', '건강', '과실', '급식용', '기타', '반찬', '베이커리', '생활용품', '서류', '수산',\n",
    "                            '양념/가루', '음료', '잡곡', '주곡', '주류', '채소', '축산물'])\n",
    "\n",
    "df_10['회원번호'] = pv3.index"
   ]
  },
  {
   "cell_type": "code",
   "execution_count": 157,
   "metadata": {},
   "outputs": [
    {
     "name": "stderr",
     "output_type": "stream",
     "text": [
      "C:\\Users\\BigData1\\AppData\\Local\\Temp\\ipykernel_13424\\297214490.py:5: FutureWarning:\n",
      "\n",
      "Series.__getitem__ treating keys as positions is deprecated. In a future version, integer keys will always be treated as labels (consistent with DataFrame behavior). To access a value by position, use `ser.iloc[pos]`\n",
      "\n"
     ]
    }
   ],
   "source": [
    "for i in range(len(pv3)) :\n",
    "    summ = pv3.iloc[i].sum()\n",
    "    for j in range(len(pv3.columns)) :\n",
    "        a = pv3.columns[j]\n",
    "        b = str(round((pv3.iloc[i][j] / summ) * 100, 2))      \n",
    "        df_10.at[i,a]= b+'%'"
   ]
  },
  {
   "cell_type": "code",
   "execution_count": 159,
   "metadata": {},
   "outputs": [
    {
     "data": {
      "text/html": [
       "<div>\n",
       "<style scoped>\n",
       "    .dataframe tbody tr th:only-of-type {\n",
       "        vertical-align: middle;\n",
       "    }\n",
       "\n",
       "    .dataframe tbody tr th {\n",
       "        vertical-align: top;\n",
       "    }\n",
       "\n",
       "    .dataframe thead th {\n",
       "        text-align: right;\n",
       "    }\n",
       "</style>\n",
       "<table border=\"1\" class=\"dataframe\">\n",
       "  <thead>\n",
       "    <tr style=\"text-align: right;\">\n",
       "      <th></th>\n",
       "      <th>회원번호</th>\n",
       "      <th>간식</th>\n",
       "      <th>건강</th>\n",
       "      <th>과실</th>\n",
       "      <th>급식용</th>\n",
       "      <th>기타</th>\n",
       "      <th>반찬</th>\n",
       "      <th>베이커리</th>\n",
       "      <th>생활용품</th>\n",
       "      <th>서류</th>\n",
       "      <th>수산</th>\n",
       "      <th>양념/가루</th>\n",
       "      <th>음료</th>\n",
       "      <th>잡곡</th>\n",
       "      <th>주곡</th>\n",
       "      <th>주류</th>\n",
       "      <th>채소</th>\n",
       "      <th>축산물</th>\n",
       "      <th>총합</th>\n",
       "    </tr>\n",
       "  </thead>\n",
       "  <tbody>\n",
       "    <tr>\n",
       "      <th>0</th>\n",
       "      <td>2101</td>\n",
       "      <td>7.89%</td>\n",
       "      <td>2.34%</td>\n",
       "      <td>0.88%</td>\n",
       "      <td>0.0%</td>\n",
       "      <td>0.0%</td>\n",
       "      <td>15.5%</td>\n",
       "      <td>0.0%</td>\n",
       "      <td>2.05%</td>\n",
       "      <td>1.75%</td>\n",
       "      <td>1.17%</td>\n",
       "      <td>3.22%</td>\n",
       "      <td>1.46%</td>\n",
       "      <td>1.46%</td>\n",
       "      <td>0.58%</td>\n",
       "      <td>0.0%</td>\n",
       "      <td>35.67%</td>\n",
       "      <td>26.02%</td>\n",
       "      <td>100%</td>\n",
       "    </tr>\n",
       "    <tr>\n",
       "      <th>1</th>\n",
       "      <td>2102</td>\n",
       "      <td>27.63%</td>\n",
       "      <td>0.0%</td>\n",
       "      <td>7.09%</td>\n",
       "      <td>0.0%</td>\n",
       "      <td>0.0%</td>\n",
       "      <td>10.76%</td>\n",
       "      <td>0.0%</td>\n",
       "      <td>0.98%</td>\n",
       "      <td>2.69%</td>\n",
       "      <td>4.4%</td>\n",
       "      <td>3.67%</td>\n",
       "      <td>1.71%</td>\n",
       "      <td>1.22%</td>\n",
       "      <td>3.91%</td>\n",
       "      <td>0.0%</td>\n",
       "      <td>24.94%</td>\n",
       "      <td>11.0%</td>\n",
       "      <td>100%</td>\n",
       "    </tr>\n",
       "    <tr>\n",
       "      <th>2</th>\n",
       "      <td>2103</td>\n",
       "      <td>16.08%</td>\n",
       "      <td>1.94%</td>\n",
       "      <td>3.13%</td>\n",
       "      <td>0.0%</td>\n",
       "      <td>0.0%</td>\n",
       "      <td>11.7%</td>\n",
       "      <td>0.0%</td>\n",
       "      <td>3.32%</td>\n",
       "      <td>1.31%</td>\n",
       "      <td>9.76%</td>\n",
       "      <td>3.69%</td>\n",
       "      <td>3.75%</td>\n",
       "      <td>0.88%</td>\n",
       "      <td>0.75%</td>\n",
       "      <td>0.19%</td>\n",
       "      <td>29.22%</td>\n",
       "      <td>14.27%</td>\n",
       "      <td>100%</td>\n",
       "    </tr>\n",
       "    <tr>\n",
       "      <th>3</th>\n",
       "      <td>2104</td>\n",
       "      <td>14.07%</td>\n",
       "      <td>0.34%</td>\n",
       "      <td>5.08%</td>\n",
       "      <td>0.0%</td>\n",
       "      <td>0.0%</td>\n",
       "      <td>12.8%</td>\n",
       "      <td>0.0%</td>\n",
       "      <td>2.37%</td>\n",
       "      <td>1.44%</td>\n",
       "      <td>7.37%</td>\n",
       "      <td>4.75%</td>\n",
       "      <td>2.46%</td>\n",
       "      <td>1.1%</td>\n",
       "      <td>1.36%</td>\n",
       "      <td>0.08%</td>\n",
       "      <td>31.36%</td>\n",
       "      <td>15.42%</td>\n",
       "      <td>100%</td>\n",
       "    </tr>\n",
       "    <tr>\n",
       "      <th>4</th>\n",
       "      <td>2105</td>\n",
       "      <td>14.26%</td>\n",
       "      <td>0.59%</td>\n",
       "      <td>5.27%</td>\n",
       "      <td>0.0%</td>\n",
       "      <td>0.0%</td>\n",
       "      <td>10.74%</td>\n",
       "      <td>0.0%</td>\n",
       "      <td>1.76%</td>\n",
       "      <td>2.93%</td>\n",
       "      <td>4.88%</td>\n",
       "      <td>4.49%</td>\n",
       "      <td>4.69%</td>\n",
       "      <td>2.93%</td>\n",
       "      <td>1.17%</td>\n",
       "      <td>0.0%</td>\n",
       "      <td>30.66%</td>\n",
       "      <td>15.62%</td>\n",
       "      <td>100%</td>\n",
       "    </tr>\n",
       "    <tr>\n",
       "      <th>5</th>\n",
       "      <td>2106</td>\n",
       "      <td>6.74%</td>\n",
       "      <td>0.33%</td>\n",
       "      <td>4.77%</td>\n",
       "      <td>0.0%</td>\n",
       "      <td>0.0%</td>\n",
       "      <td>7.57%</td>\n",
       "      <td>0.0%</td>\n",
       "      <td>0.0%</td>\n",
       "      <td>1.81%</td>\n",
       "      <td>4.93%</td>\n",
       "      <td>5.76%</td>\n",
       "      <td>0.99%</td>\n",
       "      <td>1.97%</td>\n",
       "      <td>3.45%</td>\n",
       "      <td>0.0%</td>\n",
       "      <td>45.89%</td>\n",
       "      <td>15.79%</td>\n",
       "      <td>100%</td>\n",
       "    </tr>\n",
       "    <tr>\n",
       "      <th>6</th>\n",
       "      <td>2107</td>\n",
       "      <td>11.06%</td>\n",
       "      <td>0.17%</td>\n",
       "      <td>3.94%</td>\n",
       "      <td>0.0%</td>\n",
       "      <td>0.0%</td>\n",
       "      <td>6.7%</td>\n",
       "      <td>0.0%</td>\n",
       "      <td>3.43%</td>\n",
       "      <td>0.67%</td>\n",
       "      <td>8.96%</td>\n",
       "      <td>4.19%</td>\n",
       "      <td>1.76%</td>\n",
       "      <td>2.35%</td>\n",
       "      <td>1.34%</td>\n",
       "      <td>0.0%</td>\n",
       "      <td>43.38%</td>\n",
       "      <td>12.06%</td>\n",
       "      <td>100%</td>\n",
       "    </tr>\n",
       "    <tr>\n",
       "      <th>7</th>\n",
       "      <td>2108</td>\n",
       "      <td>15.51%</td>\n",
       "      <td>0.34%</td>\n",
       "      <td>4.56%</td>\n",
       "      <td>0.0%</td>\n",
       "      <td>0.0%</td>\n",
       "      <td>9.35%</td>\n",
       "      <td>0.0%</td>\n",
       "      <td>0.23%</td>\n",
       "      <td>1.03%</td>\n",
       "      <td>5.93%</td>\n",
       "      <td>3.65%</td>\n",
       "      <td>2.05%</td>\n",
       "      <td>1.14%</td>\n",
       "      <td>0.46%</td>\n",
       "      <td>0.0%</td>\n",
       "      <td>36.03%</td>\n",
       "      <td>19.73%</td>\n",
       "      <td>100%</td>\n",
       "    </tr>\n",
       "    <tr>\n",
       "      <th>8</th>\n",
       "      <td>2109</td>\n",
       "      <td>11.95%</td>\n",
       "      <td>1.03%</td>\n",
       "      <td>8.05%</td>\n",
       "      <td>0.0%</td>\n",
       "      <td>0.0%</td>\n",
       "      <td>6.09%</td>\n",
       "      <td>0.0%</td>\n",
       "      <td>3.33%</td>\n",
       "      <td>1.61%</td>\n",
       "      <td>5.29%</td>\n",
       "      <td>4.02%</td>\n",
       "      <td>3.33%</td>\n",
       "      <td>0.92%</td>\n",
       "      <td>1.61%</td>\n",
       "      <td>0.0%</td>\n",
       "      <td>41.49%</td>\n",
       "      <td>11.26%</td>\n",
       "      <td>100%</td>\n",
       "    </tr>\n",
       "    <tr>\n",
       "      <th>9</th>\n",
       "      <td>2110</td>\n",
       "      <td>20.67%</td>\n",
       "      <td>1.21%</td>\n",
       "      <td>3.11%</td>\n",
       "      <td>0.0%</td>\n",
       "      <td>0.0%</td>\n",
       "      <td>9.08%</td>\n",
       "      <td>0.0%</td>\n",
       "      <td>2.85%</td>\n",
       "      <td>1.3%</td>\n",
       "      <td>8.22%</td>\n",
       "      <td>1.3%</td>\n",
       "      <td>4.76%</td>\n",
       "      <td>0.69%</td>\n",
       "      <td>1.64%</td>\n",
       "      <td>0.09%</td>\n",
       "      <td>25.43%</td>\n",
       "      <td>19.64%</td>\n",
       "      <td>100%</td>\n",
       "    </tr>\n",
       "  </tbody>\n",
       "</table>\n",
       "</div>"
      ],
      "text/plain": [
       "   회원번호      간식     건강     과실   급식용    기타      반찬  베이커리   생활용품     서류     수산  \\\n",
       "0  2101   7.89%  2.34%  0.88%  0.0%  0.0%   15.5%  0.0%  2.05%  1.75%  1.17%   \n",
       "1  2102  27.63%   0.0%  7.09%  0.0%  0.0%  10.76%  0.0%  0.98%  2.69%   4.4%   \n",
       "2  2103  16.08%  1.94%  3.13%  0.0%  0.0%   11.7%  0.0%  3.32%  1.31%  9.76%   \n",
       "3  2104  14.07%  0.34%  5.08%  0.0%  0.0%   12.8%  0.0%  2.37%  1.44%  7.37%   \n",
       "4  2105  14.26%  0.59%  5.27%  0.0%  0.0%  10.74%  0.0%  1.76%  2.93%  4.88%   \n",
       "5  2106   6.74%  0.33%  4.77%  0.0%  0.0%   7.57%  0.0%   0.0%  1.81%  4.93%   \n",
       "6  2107  11.06%  0.17%  3.94%  0.0%  0.0%    6.7%  0.0%  3.43%  0.67%  8.96%   \n",
       "7  2108  15.51%  0.34%  4.56%  0.0%  0.0%   9.35%  0.0%  0.23%  1.03%  5.93%   \n",
       "8  2109  11.95%  1.03%  8.05%  0.0%  0.0%   6.09%  0.0%  3.33%  1.61%  5.29%   \n",
       "9  2110  20.67%  1.21%  3.11%  0.0%  0.0%   9.08%  0.0%  2.85%   1.3%  8.22%   \n",
       "\n",
       "   양념/가루     음료     잡곡     주곡     주류      채소     축산물    총합  \n",
       "0  3.22%  1.46%  1.46%  0.58%   0.0%  35.67%  26.02%  100%  \n",
       "1  3.67%  1.71%  1.22%  3.91%   0.0%  24.94%   11.0%  100%  \n",
       "2  3.69%  3.75%  0.88%  0.75%  0.19%  29.22%  14.27%  100%  \n",
       "3  4.75%  2.46%   1.1%  1.36%  0.08%  31.36%  15.42%  100%  \n",
       "4  4.49%  4.69%  2.93%  1.17%   0.0%  30.66%  15.62%  100%  \n",
       "5  5.76%  0.99%  1.97%  3.45%   0.0%  45.89%  15.79%  100%  \n",
       "6  4.19%  1.76%  2.35%  1.34%   0.0%  43.38%  12.06%  100%  \n",
       "7  3.65%  2.05%  1.14%  0.46%   0.0%  36.03%  19.73%  100%  \n",
       "8  4.02%  3.33%  0.92%  1.61%   0.0%  41.49%  11.26%  100%  \n",
       "9   1.3%  4.76%  0.69%  1.64%  0.09%  25.43%  19.64%  100%  "
      ]
     },
     "execution_count": 159,
     "metadata": {},
     "output_type": "execute_result"
    }
   ],
   "source": [
    "df_10['총합'] = '100%'\n",
    "df_10.head(10)"
   ]
  },
  {
   "cell_type": "code",
   "execution_count": null,
   "metadata": {},
   "outputs": [],
   "source": [
    "######## 정답코드\n",
    "for i in range(len(pv3)) :\n",
    "    s = pv3.iloc[i]\n",
    "    summ = s.sum()\n",
    "    for j in range(len(s)) :\n",
    "        s[j] = round(((s[j]/summ) * 100),2)\n",
    "    pv3.iloc[i] = s\n",
    "pv3.head(10)"
   ]
  },
  {
   "cell_type": "code",
   "execution_count": 165,
   "metadata": {},
   "outputs": [
    {
     "name": "stdout",
     "output_type": "stream",
     "text": [
      "<class 'pandas.core.frame.DataFrame'>\n",
      "Index: 4285 entries, 0 to 4284\n",
      "Data columns (total 13 columns):\n",
      " #   Column    Non-Null Count  Dtype  \n",
      "---  ------    --------------  -----  \n",
      " 0   회원번호      4285 non-null   object \n",
      " 1   회원상태      4285 non-null   object \n",
      " 2   성별        4285 non-null   object \n",
      " 3   결혼유무      3360 non-null   object \n",
      " 4   주소        4285 non-null   object \n",
      " 5   연령        4285 non-null   int64  \n",
      " 6   총구매금액     4285 non-null   int64  \n",
      " 7   총구매수량     4285 non-null   float64\n",
      " 8   총방문횟수     4285 non-null   int64  \n",
      " 9   1회방문구매평균  4285 non-null   float64\n",
      " 10  고객등급      4285 non-null   object \n",
      " 11  label     4285 non-null   int64  \n",
      " 12  지역(시)     4285 non-null   object \n",
      "dtypes: float64(2), int64(4), object(7)\n",
      "memory usage: 597.7+ KB\n"
     ]
    }
   ],
   "source": [
    "df1['회원번호'] = df1['회원번호'].astype(str)\n",
    "df1.info()"
   ]
  },
  {
   "cell_type": "code",
   "execution_count": 168,
   "metadata": {},
   "outputs": [
    {
     "name": "stdout",
     "output_type": "stream",
     "text": [
      "<class 'pandas.core.frame.DataFrame'>\n",
      "RangeIndex: 4285 entries, 0 to 4284\n",
      "Data columns (total 31 columns):\n",
      " #   Column    Non-Null Count  Dtype  \n",
      "---  ------    --------------  -----  \n",
      " 0   회원번호      4285 non-null   object \n",
      " 1   회원상태      4285 non-null   object \n",
      " 2   성별        4285 non-null   object \n",
      " 3   결혼유무      3360 non-null   object \n",
      " 4   주소        4285 non-null   object \n",
      " 5   연령        4285 non-null   int64  \n",
      " 6   총구매금액     4285 non-null   int64  \n",
      " 7   총구매수량     4285 non-null   float64\n",
      " 8   총방문횟수     4285 non-null   int64  \n",
      " 9   1회방문구매평균  4285 non-null   float64\n",
      " 10  고객등급      4285 non-null   object \n",
      " 11  label     4285 non-null   int64  \n",
      " 12  지역(시)     4285 non-null   object \n",
      " 13  간식        4285 non-null   object \n",
      " 14  건강        4285 non-null   object \n",
      " 15  과실        4285 non-null   object \n",
      " 16  급식용       4285 non-null   object \n",
      " 17  기타        4285 non-null   object \n",
      " 18  반찬        4285 non-null   object \n",
      " 19  베이커리      4285 non-null   object \n",
      " 20  생활용품      4285 non-null   object \n",
      " 21  서류        4285 non-null   object \n",
      " 22  수산        4285 non-null   object \n",
      " 23  양념/가루     4285 non-null   object \n",
      " 24  음료        4285 non-null   object \n",
      " 25  잡곡        4285 non-null   object \n",
      " 26  주곡        4285 non-null   object \n",
      " 27  주류        4285 non-null   object \n",
      " 28  채소        4285 non-null   object \n",
      " 29  축산물       4285 non-null   object \n",
      " 30  총합        4285 non-null   object \n",
      "dtypes: float64(2), int64(4), object(25)\n",
      "memory usage: 1.0+ MB\n"
     ]
    }
   ],
   "source": [
    "df2 = pd.merge(df1,df_10,on='회원번호')\n",
    "df2.info()"
   ]
  },
  {
   "cell_type": "markdown",
   "metadata": {},
   "source": [
    "11. df_product데이터의 구조와 타입을 확인 하시오."
   ]
  },
  {
   "cell_type": "code",
   "execution_count": 160,
   "metadata": {},
   "outputs": [
    {
     "name": "stdout",
     "output_type": "stream",
     "text": [
      "(735783, 12)\n",
      "<class 'pandas.core.frame.DataFrame'>\n",
      "RangeIndex: 735783 entries, 0 to 735782\n",
      "Data columns (total 12 columns):\n",
      " #   Column    Non-Null Count   Dtype  \n",
      "---  ------    --------------   -----  \n",
      " 0   공급일자      735783 non-null  int64  \n",
      " 1   물품코드      735783 non-null  int64  \n",
      " 2   물품대분류     735783 non-null  object \n",
      " 3   물품중분류     735783 non-null  object \n",
      " 4   물품소분류     735783 non-null  object \n",
      " 5   물품명       735783 non-null  object \n",
      " 6   구매수량      735783 non-null  float64\n",
      " 7   구매금액      735783 non-null  int64  \n",
      " 8   구매매장      735783 non-null  object \n",
      " 9   반품_원거래일자  10337 non-null   float64\n",
      " 10  회원번호      735783 non-null  object \n",
      " 11  label     735783 non-null  int64  \n",
      "dtypes: float64(2), int64(4), object(6)\n",
      "memory usage: 67.4+ MB\n"
     ]
    }
   ],
   "source": [
    "print(df_product.shape)\n",
    "df_product.info()"
   ]
  },
  {
   "cell_type": "markdown",
   "metadata": {},
   "source": [
    "12. df_product데이터의'물품대분류' 중 가장 많이 판매되는(수량)3가지 항목을 추출하여, df_product_top이라는 변수로 선언하고, df_product_top에서 '구매매장'별 '구매금액'의 합과 평균을 계산 하시오."
   ]
  },
  {
   "cell_type": "code",
   "execution_count": 188,
   "metadata": {},
   "outputs": [],
   "source": [
    "product_top = df_product['물품대분류'].value_counts().head(3).index"
   ]
  },
  {
   "cell_type": "code",
   "execution_count": 189,
   "metadata": {},
   "outputs": [
    {
     "data": {
      "text/html": [
       "<div>\n",
       "<style scoped>\n",
       "    .dataframe tbody tr th:only-of-type {\n",
       "        vertical-align: middle;\n",
       "    }\n",
       "\n",
       "    .dataframe tbody tr th {\n",
       "        vertical-align: top;\n",
       "    }\n",
       "\n",
       "    .dataframe thead tr th {\n",
       "        text-align: left;\n",
       "    }\n",
       "\n",
       "    .dataframe thead tr:last-of-type th {\n",
       "        text-align: right;\n",
       "    }\n",
       "</style>\n",
       "<table border=\"1\" class=\"dataframe\">\n",
       "  <thead>\n",
       "    <tr>\n",
       "      <th></th>\n",
       "      <th>sum</th>\n",
       "      <th>mean</th>\n",
       "    </tr>\n",
       "    <tr>\n",
       "      <th></th>\n",
       "      <th>구매금액</th>\n",
       "      <th>구매금액</th>\n",
       "    </tr>\n",
       "    <tr>\n",
       "      <th>구매매장</th>\n",
       "      <th></th>\n",
       "      <th></th>\n",
       "    </tr>\n",
       "  </thead>\n",
       "  <tbody>\n",
       "    <tr>\n",
       "      <th>매장1</th>\n",
       "      <td>363985400</td>\n",
       "      <td>4770.638426</td>\n",
       "    </tr>\n",
       "    <tr>\n",
       "      <th>매장2</th>\n",
       "      <td>461745602</td>\n",
       "      <td>4908.271082</td>\n",
       "    </tr>\n",
       "    <tr>\n",
       "      <th>매장3</th>\n",
       "      <td>916748142</td>\n",
       "      <td>4949.910326</td>\n",
       "    </tr>\n",
       "    <tr>\n",
       "      <th>매장4</th>\n",
       "      <td>419048570</td>\n",
       "      <td>5019.146844</td>\n",
       "    </tr>\n",
       "  </tbody>\n",
       "</table>\n",
       "</div>"
      ],
      "text/plain": [
       "            sum         mean\n",
       "           구매금액         구매금액\n",
       "구매매장                        \n",
       "매장1   363985400  4770.638426\n",
       "매장2   461745602  4908.271082\n",
       "매장3   916748142  4949.910326\n",
       "매장4   419048570  5019.146844"
      ]
     },
     "execution_count": 189,
     "metadata": {},
     "output_type": "execute_result"
    }
   ],
   "source": [
    "df_product_top = df_product.loc[df_product['물품대분류'].isin(product_top)]\n",
    "pv4 = df_product_top.pivot_table(index='구매매장',values='구매금액',aggfunc=['sum','mean'])\n",
    "pv4"
   ]
  },
  {
   "cell_type": "markdown",
   "metadata": {},
   "source": [
    "13. 공급일자'데이터를 날짜형식으로 변환하여, '연도' / '월' / '요일' 항목을 새로운 파생변수로 생성하시오."
   ]
  },
  {
   "cell_type": "code",
   "execution_count": 198,
   "metadata": {},
   "outputs": [],
   "source": [
    "df_product['공급일자_dt'] = pd.to_datetime(df_product['공급일자'],format='%Y%m%d')\n",
    "df_product['연도'] = df_product['공급일자_dt'].dt.year\n",
    "df_product['월'] = df_product['공급일자_dt'].dt.month\n",
    "df_product['요일'] = df_product['공급일자_dt'].dt.day_name()"
   ]
  },
  {
   "cell_type": "markdown",
   "metadata": {},
   "source": [
    "14. '월'에 따른'물품대분류'별 '구매금액'의 합을 게산하여 result8.xlsx저장 하시오."
   ]
  },
  {
   "cell_type": "code",
   "execution_count": 200,
   "metadata": {},
   "outputs": [],
   "source": [
    "pv5 = df_product.pivot_table(index=['월','물품대분류'],values='구매금액',aggfunc='sum')\n",
    "pv5.to_excel('result8.xlsx')"
   ]
  },
  {
   "cell_type": "markdown",
   "metadata": {},
   "source": [
    "15. '요일'에서 '주말'과'주중'을 구분하여, '주중'과 '주말'의 구매수량의 합을 확인하시오."
   ]
  },
  {
   "cell_type": "code",
   "execution_count": 201,
   "metadata": {},
   "outputs": [
    {
     "data": {
      "text/plain": [
       "array(['Tuesday', 'Wednesday', 'Thursday', 'Friday', 'Saturday', 'Sunday',\n",
       "       'Monday'], dtype=object)"
      ]
     },
     "execution_count": 201,
     "metadata": {},
     "output_type": "execute_result"
    }
   ],
   "source": [
    "df_product['요일'].unique()"
   ]
  },
  {
   "cell_type": "code",
   "execution_count": 202,
   "metadata": {},
   "outputs": [],
   "source": [
    "def weekend_name(row) :\n",
    "    if row in ['Monday','Tuesday', 'Wednesday', 'Thursday', 'Friday'] :\n",
    "        return '주중'\n",
    "    else : return '주말'\n",
    "df_product['주중/주말'] = df_product['요일'].apply(weekend_name)"
   ]
  },
  {
   "cell_type": "code",
   "execution_count": 206,
   "metadata": {},
   "outputs": [
    {
     "data": {
      "text/html": [
       "<div>\n",
       "<style scoped>\n",
       "    .dataframe tbody tr th:only-of-type {\n",
       "        vertical-align: middle;\n",
       "    }\n",
       "\n",
       "    .dataframe tbody tr th {\n",
       "        vertical-align: top;\n",
       "    }\n",
       "\n",
       "    .dataframe thead th {\n",
       "        text-align: right;\n",
       "    }\n",
       "</style>\n",
       "<table border=\"1\" class=\"dataframe\">\n",
       "  <thead>\n",
       "    <tr style=\"text-align: right;\">\n",
       "      <th></th>\n",
       "      <th>구매수량</th>\n",
       "    </tr>\n",
       "    <tr>\n",
       "      <th>주중/주말</th>\n",
       "      <th></th>\n",
       "    </tr>\n",
       "  </thead>\n",
       "  <tbody>\n",
       "    <tr>\n",
       "      <th>주말</th>\n",
       "      <td>219020.73</td>\n",
       "    </tr>\n",
       "    <tr>\n",
       "      <th>주중</th>\n",
       "      <td>630064.47</td>\n",
       "    </tr>\n",
       "  </tbody>\n",
       "</table>\n",
       "</div>"
      ],
      "text/plain": [
       "            구매수량\n",
       "주중/주말           \n",
       "주말     219020.73\n",
       "주중     630064.47"
      ]
     },
     "execution_count": 206,
     "metadata": {},
     "output_type": "execute_result"
    }
   ],
   "source": [
    "pv6 = df_product.pivot_table(index='주중/주말',values='구매수량',aggfunc='sum')\n",
    "pv6"
   ]
  },
  {
   "cell_type": "code",
   "execution_count": null,
   "metadata": {},
   "outputs": [],
   "source": []
  }
 ],
 "metadata": {
  "kernelspec": {
   "display_name": "Python 3",
   "language": "python",
   "name": "python3"
  },
  "language_info": {
   "codemirror_mode": {
    "name": "ipython",
    "version": 3
   },
   "file_extension": ".py",
   "mimetype": "text/x-python",
   "name": "python",
   "nbconvert_exporter": "python",
   "pygments_lexer": "ipython3",
   "version": "3.12.4"
  }
 },
 "nbformat": 4,
 "nbformat_minor": 2
}
